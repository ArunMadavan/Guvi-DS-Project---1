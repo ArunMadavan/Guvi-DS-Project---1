{
 "cells": [
  {
   "cell_type": "code",
   "execution_count": 24,
   "id": "b36e298a",
   "metadata": {},
   "outputs": [],
   "source": [
    "import seaborn as sns\n",
    "import matplotlib.pyplot as plt\n",
    "import pandas as pd"
   ]
  },
  {
   "cell_type": "code",
   "execution_count": 2,
   "id": "805214e5",
   "metadata": {},
   "outputs": [
    {
     "data": {
      "text/html": [
       "<div>\n",
       "<style scoped>\n",
       "    .dataframe tbody tr th:only-of-type {\n",
       "        vertical-align: middle;\n",
       "    }\n",
       "\n",
       "    .dataframe tbody tr th {\n",
       "        vertical-align: top;\n",
       "    }\n",
       "\n",
       "    .dataframe thead th {\n",
       "        text-align: right;\n",
       "    }\n",
       "</style>\n",
       "<table border=\"1\" class=\"dataframe\">\n",
       "  <thead>\n",
       "    <tr style=\"text-align: right;\">\n",
       "      <th></th>\n",
       "      <th>Rank</th>\n",
       "      <th>Channel Info</th>\n",
       "      <th>Influence Score</th>\n",
       "      <th>Followers</th>\n",
       "      <th>Avg. Likes</th>\n",
       "      <th>Posts</th>\n",
       "      <th>60-Day Eng Rate</th>\n",
       "      <th>New Post Avg. Likes</th>\n",
       "      <th>Total Likes</th>\n",
       "      <th>Country Or Region</th>\n",
       "    </tr>\n",
       "  </thead>\n",
       "  <tbody>\n",
       "    <tr>\n",
       "      <th>0</th>\n",
       "      <td>1.0</td>\n",
       "      <td>\\ncristiano</td>\n",
       "      <td>92.0</td>\n",
       "      <td>485.2m</td>\n",
       "      <td>8.7m</td>\n",
       "      <td>3.4k</td>\n",
       "      <td>0.013</td>\n",
       "      <td>6.3m</td>\n",
       "      <td>29.1b</td>\n",
       "      <td>Spain</td>\n",
       "    </tr>\n",
       "    <tr>\n",
       "      <th>1</th>\n",
       "      <td>2.0</td>\n",
       "      <td>kyliejenner</td>\n",
       "      <td>91.0</td>\n",
       "      <td>370.7m</td>\n",
       "      <td>8.2m</td>\n",
       "      <td>7.0k</td>\n",
       "      <td>0.014</td>\n",
       "      <td>5.0m</td>\n",
       "      <td>57.4b</td>\n",
       "      <td>United States</td>\n",
       "    </tr>\n",
       "    <tr>\n",
       "      <th>2</th>\n",
       "      <td>3.0</td>\n",
       "      <td>\\nleomessi</td>\n",
       "      <td>90.0</td>\n",
       "      <td>363.9m</td>\n",
       "      <td>6.7m</td>\n",
       "      <td>915.0</td>\n",
       "      <td>0.010</td>\n",
       "      <td>3.5m</td>\n",
       "      <td>6.1b</td>\n",
       "      <td>NaN</td>\n",
       "    </tr>\n",
       "    <tr>\n",
       "      <th>3</th>\n",
       "      <td>4.0</td>\n",
       "      <td>\\nselenagomez</td>\n",
       "      <td>93.0</td>\n",
       "      <td>348.8m</td>\n",
       "      <td>6.1m</td>\n",
       "      <td>1.9k</td>\n",
       "      <td>0.005</td>\n",
       "      <td>1.7m</td>\n",
       "      <td>11.4b</td>\n",
       "      <td>United States</td>\n",
       "    </tr>\n",
       "    <tr>\n",
       "      <th>4</th>\n",
       "      <td>5.0</td>\n",
       "      <td>\\ntherock</td>\n",
       "      <td>91.0</td>\n",
       "      <td>339.4m</td>\n",
       "      <td>1.8m</td>\n",
       "      <td>6.8k</td>\n",
       "      <td>0.003</td>\n",
       "      <td>932.0k</td>\n",
       "      <td>12.6b</td>\n",
       "      <td>United States</td>\n",
       "    </tr>\n",
       "    <tr>\n",
       "      <th>...</th>\n",
       "      <td>...</td>\n",
       "      <td>...</td>\n",
       "      <td>...</td>\n",
       "      <td>...</td>\n",
       "      <td>...</td>\n",
       "      <td>...</td>\n",
       "      <td>...</td>\n",
       "      <td>...</td>\n",
       "      <td>...</td>\n",
       "      <td>...</td>\n",
       "    </tr>\n",
       "    <tr>\n",
       "      <th>195</th>\n",
       "      <td>196.0</td>\n",
       "      <td>\\nkhabib_nurmagomedov</td>\n",
       "      <td>63.0</td>\n",
       "      <td>33.6m</td>\n",
       "      <td>680.6k</td>\n",
       "      <td>4.6k</td>\n",
       "      <td>0.009</td>\n",
       "      <td>305.7k</td>\n",
       "      <td>3.1b</td>\n",
       "      <td>Russia</td>\n",
       "    </tr>\n",
       "    <tr>\n",
       "      <th>196</th>\n",
       "      <td>197.0</td>\n",
       "      <td>\\ndanbilzerian</td>\n",
       "      <td>84.0</td>\n",
       "      <td>33.6m</td>\n",
       "      <td>2.2m</td>\n",
       "      <td>1.4k</td>\n",
       "      <td>0.064</td>\n",
       "      <td>2.1m</td>\n",
       "      <td>3.0b</td>\n",
       "      <td>Canada</td>\n",
       "    </tr>\n",
       "    <tr>\n",
       "      <th>197</th>\n",
       "      <td>198.0</td>\n",
       "      <td>\\nraisa6690</td>\n",
       "      <td>80.0</td>\n",
       "      <td>33.6m</td>\n",
       "      <td>227.8k</td>\n",
       "      <td>4.2k</td>\n",
       "      <td>0.003</td>\n",
       "      <td>103.2k</td>\n",
       "      <td>955.9m</td>\n",
       "      <td>Indonesia</td>\n",
       "    </tr>\n",
       "    <tr>\n",
       "      <th>198</th>\n",
       "      <td>199.0</td>\n",
       "      <td>\\nluansantana</td>\n",
       "      <td>79.0</td>\n",
       "      <td>33.5m</td>\n",
       "      <td>193.3k</td>\n",
       "      <td>865.0</td>\n",
       "      <td>0.003</td>\n",
       "      <td>82.6k</td>\n",
       "      <td>167.2m</td>\n",
       "      <td>Brazil</td>\n",
       "    </tr>\n",
       "    <tr>\n",
       "      <th>199</th>\n",
       "      <td>200.0</td>\n",
       "      <td>\\nnancyajram</td>\n",
       "      <td>81.0</td>\n",
       "      <td>33.4m</td>\n",
       "      <td>382.5k</td>\n",
       "      <td>3.8k</td>\n",
       "      <td>0.004</td>\n",
       "      <td>128.2k</td>\n",
       "      <td>1.5b</td>\n",
       "      <td>France</td>\n",
       "    </tr>\n",
       "  </tbody>\n",
       "</table>\n",
       "<p>200 rows × 10 columns</p>\n",
       "</div>"
      ],
      "text/plain": [
       "      Rank           Channel Info  Influence Score Followers Avg. Likes  \\\n",
       "0      1.0            \\ncristiano             92.0    485.2m       8.7m   \n",
       "1      2.0            kyliejenner             91.0    370.7m       8.2m   \n",
       "2      3.0             \\nleomessi             90.0    363.9m       6.7m   \n",
       "3      4.0          \\nselenagomez             93.0    348.8m       6.1m   \n",
       "4      5.0              \\ntherock             91.0    339.4m       1.8m   \n",
       "..     ...                    ...              ...       ...        ...   \n",
       "195  196.0  \\nkhabib_nurmagomedov             63.0     33.6m     680.6k   \n",
       "196  197.0         \\ndanbilzerian             84.0     33.6m       2.2m   \n",
       "197  198.0            \\nraisa6690             80.0     33.6m     227.8k   \n",
       "198  199.0          \\nluansantana             79.0     33.5m     193.3k   \n",
       "199  200.0           \\nnancyajram             81.0     33.4m     382.5k   \n",
       "\n",
       "     Posts  60-Day Eng Rate New Post Avg. Likes Total Likes Country Or Region  \n",
       "0     3.4k            0.013                6.3m       29.1b             Spain  \n",
       "1     7.0k            0.014                5.0m       57.4b     United States  \n",
       "2    915.0            0.010                3.5m        6.1b               NaN  \n",
       "3     1.9k            0.005                1.7m       11.4b     United States  \n",
       "4     6.8k            0.003              932.0k       12.6b     United States  \n",
       "..     ...              ...                 ...         ...               ...  \n",
       "195   4.6k            0.009              305.7k        3.1b            Russia  \n",
       "196   1.4k            0.064                2.1m        3.0b            Canada  \n",
       "197   4.2k            0.003              103.2k      955.9m         Indonesia  \n",
       "198  865.0            0.003               82.6k      167.2m            Brazil  \n",
       "199   3.8k            0.004              128.2k        1.5b            France  \n",
       "\n",
       "[200 rows x 10 columns]"
      ]
     },
     "execution_count": 2,
     "metadata": {},
     "output_type": "execute_result"
    }
   ],
   "source": [
    "df = pd.read_excel('influencer.xlsx')\n",
    "df"
   ]
  },
  {
   "cell_type": "code",
   "execution_count": 3,
   "id": "56ac76fe",
   "metadata": {
    "scrolled": true
   },
   "outputs": [
    {
     "name": "stdout",
     "output_type": "stream",
     "text": [
      "<class 'pandas.core.frame.DataFrame'>\n",
      "RangeIndex: 200 entries, 0 to 199\n",
      "Data columns (total 10 columns):\n",
      " #   Column               Non-Null Count  Dtype  \n",
      "---  ------               --------------  -----  \n",
      " 0   Rank                 200 non-null    float64\n",
      " 1   Channel Info         200 non-null    object \n",
      " 2   Influence Score      200 non-null    float64\n",
      " 3   Followers            200 non-null    object \n",
      " 4   Avg. Likes           200 non-null    object \n",
      " 5   Posts                200 non-null    object \n",
      " 6   60-Day Eng Rate      200 non-null    float64\n",
      " 7   New Post Avg. Likes  200 non-null    object \n",
      " 8   Total Likes          200 non-null    object \n",
      " 9   Country Or Region    137 non-null    object \n",
      "dtypes: float64(3), object(7)\n",
      "memory usage: 15.8+ KB\n"
     ]
    }
   ],
   "source": [
    "df.info()"
   ]
  },
  {
   "cell_type": "code",
   "execution_count": 4,
   "id": "31f82cb3",
   "metadata": {},
   "outputs": [],
   "source": [
    "# df['Channel Info'] = df['Channel Info'].str.strip('\\n')"
   ]
  },
  {
   "cell_type": "code",
   "execution_count": 5,
   "id": "119da2ea",
   "metadata": {},
   "outputs": [
    {
     "data": {
      "text/plain": [
       "Rank                    0\n",
       "Channel Info            0\n",
       "Influence Score         0\n",
       "Followers               0\n",
       "Avg. Likes              0\n",
       "Posts                   0\n",
       "60-Day Eng Rate         0\n",
       "New Post Avg. Likes     0\n",
       "Total Likes             0\n",
       "Country Or Region      63\n",
       "dtype: int64"
      ]
     },
     "execution_count": 5,
     "metadata": {},
     "output_type": "execute_result"
    }
   ],
   "source": [
    "# checking null values\n",
    "df.isnull().sum()"
   ]
  },
  {
   "cell_type": "code",
   "execution_count": 6,
   "id": "6519da1b",
   "metadata": {
    "scrolled": true
   },
   "outputs": [
    {
     "data": {
      "text/plain": [
       "United States             65\n",
       "Brazil                    13\n",
       "India                     12\n",
       "Indonesia                  7\n",
       "France                     6\n",
       "Spain                      5\n",
       "United Kingdom             4\n",
       "Colombia                   3\n",
       "Canada                     3\n",
       "Mexico                     2\n",
       "Turkey                     2\n",
       "Netherlands                2\n",
       "Switzerland                1\n",
       "Germany                    1\n",
       "Czech Republic             1\n",
       "British Virgin Islands     1\n",
       "Sweden                     1\n",
       "Australia                  1\n",
       "Anguilla                   1\n",
       "CÃ´te d'Ivoire             1\n",
       "Puerto Rico                1\n",
       "United Arab Emirates       1\n",
       "Italy                      1\n",
       "Uruguay                    1\n",
       "Russia                     1\n",
       "Name: Country Or Region, dtype: int64"
      ]
     },
     "execution_count": 6,
     "metadata": {},
     "output_type": "execute_result"
    }
   ],
   "source": [
    "df['Country Or Region'].value_counts()"
   ]
  },
  {
   "cell_type": "code",
   "execution_count": 7,
   "id": "6939eea5",
   "metadata": {},
   "outputs": [],
   "source": [
    "# using mode imputation to filling the null values"
   ]
  },
  {
   "cell_type": "code",
   "execution_count": 8,
   "id": "3386a6f5",
   "metadata": {},
   "outputs": [
    {
     "data": {
      "text/plain": [
       "0    United States\n",
       "Name: Country Or Region, dtype: object"
      ]
     },
     "execution_count": 8,
     "metadata": {},
     "output_type": "execute_result"
    }
   ],
   "source": [
    "df['Country Or Region'].mode()"
   ]
  },
  {
   "cell_type": "code",
   "execution_count": 9,
   "id": "fa1d0fdc",
   "metadata": {},
   "outputs": [
    {
     "data": {
      "text/plain": [
       "array(['Spain', 'United States', 'Canada', 'Brazil', 'Netherlands',\n",
       "       'United Kingdom', 'India', 'Uruguay', 'Turkey', 'Indonesia',\n",
       "       'Colombia', 'France', 'Australia', 'Italy', 'United Arab Emirates',\n",
       "       'Puerto Rico', \"CÃ´te d'Ivoire\", 'Anguilla', 'Switzerland',\n",
       "       'Sweden', 'British Virgin Islands', 'Czech Republic', 'Mexico',\n",
       "       'Germany', 'Russia'], dtype=object)"
      ]
     },
     "execution_count": 9,
     "metadata": {},
     "output_type": "execute_result"
    }
   ],
   "source": [
    "df['Country Or Region']= (df['Country Or Region'].fillna('United States'))\n",
    "df['Country Or Region'].unique()"
   ]
  },
  {
   "cell_type": "code",
   "execution_count": 10,
   "id": "6e998f7e",
   "metadata": {},
   "outputs": [
    {
     "data": {
      "text/html": [
       "<div>\n",
       "<style scoped>\n",
       "    .dataframe tbody tr th:only-of-type {\n",
       "        vertical-align: middle;\n",
       "    }\n",
       "\n",
       "    .dataframe tbody tr th {\n",
       "        vertical-align: top;\n",
       "    }\n",
       "\n",
       "    .dataframe thead th {\n",
       "        text-align: right;\n",
       "    }\n",
       "</style>\n",
       "<table border=\"1\" class=\"dataframe\">\n",
       "  <thead>\n",
       "    <tr style=\"text-align: right;\">\n",
       "      <th></th>\n",
       "      <th>Rank</th>\n",
       "      <th>Channel Info</th>\n",
       "      <th>Influence Score</th>\n",
       "      <th>Followers</th>\n",
       "      <th>Avg. Likes</th>\n",
       "      <th>Posts</th>\n",
       "      <th>60-Day Eng Rate</th>\n",
       "      <th>New Post Avg. Likes</th>\n",
       "      <th>Total Likes</th>\n",
       "      <th>Country Or Region</th>\n",
       "    </tr>\n",
       "  </thead>\n",
       "  <tbody>\n",
       "    <tr>\n",
       "      <th>0</th>\n",
       "      <td>1.0</td>\n",
       "      <td>\\ncristiano</td>\n",
       "      <td>92.0</td>\n",
       "      <td>485.2m</td>\n",
       "      <td>8.7m</td>\n",
       "      <td>3.4k</td>\n",
       "      <td>0.013</td>\n",
       "      <td>6.3m</td>\n",
       "      <td>29.1b</td>\n",
       "      <td>Spain</td>\n",
       "    </tr>\n",
       "    <tr>\n",
       "      <th>1</th>\n",
       "      <td>2.0</td>\n",
       "      <td>kyliejenner</td>\n",
       "      <td>91.0</td>\n",
       "      <td>370.7m</td>\n",
       "      <td>8.2m</td>\n",
       "      <td>7.0k</td>\n",
       "      <td>0.014</td>\n",
       "      <td>5.0m</td>\n",
       "      <td>57.4b</td>\n",
       "      <td>United States</td>\n",
       "    </tr>\n",
       "    <tr>\n",
       "      <th>2</th>\n",
       "      <td>3.0</td>\n",
       "      <td>\\nleomessi</td>\n",
       "      <td>90.0</td>\n",
       "      <td>363.9m</td>\n",
       "      <td>6.7m</td>\n",
       "      <td>915.0</td>\n",
       "      <td>0.010</td>\n",
       "      <td>3.5m</td>\n",
       "      <td>6.1b</td>\n",
       "      <td>United States</td>\n",
       "    </tr>\n",
       "    <tr>\n",
       "      <th>3</th>\n",
       "      <td>4.0</td>\n",
       "      <td>\\nselenagomez</td>\n",
       "      <td>93.0</td>\n",
       "      <td>348.8m</td>\n",
       "      <td>6.1m</td>\n",
       "      <td>1.9k</td>\n",
       "      <td>0.005</td>\n",
       "      <td>1.7m</td>\n",
       "      <td>11.4b</td>\n",
       "      <td>United States</td>\n",
       "    </tr>\n",
       "    <tr>\n",
       "      <th>4</th>\n",
       "      <td>5.0</td>\n",
       "      <td>\\ntherock</td>\n",
       "      <td>91.0</td>\n",
       "      <td>339.4m</td>\n",
       "      <td>1.8m</td>\n",
       "      <td>6.8k</td>\n",
       "      <td>0.003</td>\n",
       "      <td>932.0k</td>\n",
       "      <td>12.6b</td>\n",
       "      <td>United States</td>\n",
       "    </tr>\n",
       "    <tr>\n",
       "      <th>...</th>\n",
       "      <td>...</td>\n",
       "      <td>...</td>\n",
       "      <td>...</td>\n",
       "      <td>...</td>\n",
       "      <td>...</td>\n",
       "      <td>...</td>\n",
       "      <td>...</td>\n",
       "      <td>...</td>\n",
       "      <td>...</td>\n",
       "      <td>...</td>\n",
       "    </tr>\n",
       "    <tr>\n",
       "      <th>195</th>\n",
       "      <td>196.0</td>\n",
       "      <td>\\nkhabib_nurmagomedov</td>\n",
       "      <td>63.0</td>\n",
       "      <td>33.6m</td>\n",
       "      <td>680.6k</td>\n",
       "      <td>4.6k</td>\n",
       "      <td>0.009</td>\n",
       "      <td>305.7k</td>\n",
       "      <td>3.1b</td>\n",
       "      <td>Russia</td>\n",
       "    </tr>\n",
       "    <tr>\n",
       "      <th>196</th>\n",
       "      <td>197.0</td>\n",
       "      <td>\\ndanbilzerian</td>\n",
       "      <td>84.0</td>\n",
       "      <td>33.6m</td>\n",
       "      <td>2.2m</td>\n",
       "      <td>1.4k</td>\n",
       "      <td>0.064</td>\n",
       "      <td>2.1m</td>\n",
       "      <td>3.0b</td>\n",
       "      <td>Canada</td>\n",
       "    </tr>\n",
       "    <tr>\n",
       "      <th>197</th>\n",
       "      <td>198.0</td>\n",
       "      <td>\\nraisa6690</td>\n",
       "      <td>80.0</td>\n",
       "      <td>33.6m</td>\n",
       "      <td>227.8k</td>\n",
       "      <td>4.2k</td>\n",
       "      <td>0.003</td>\n",
       "      <td>103.2k</td>\n",
       "      <td>955.9m</td>\n",
       "      <td>Indonesia</td>\n",
       "    </tr>\n",
       "    <tr>\n",
       "      <th>198</th>\n",
       "      <td>199.0</td>\n",
       "      <td>\\nluansantana</td>\n",
       "      <td>79.0</td>\n",
       "      <td>33.5m</td>\n",
       "      <td>193.3k</td>\n",
       "      <td>865.0</td>\n",
       "      <td>0.003</td>\n",
       "      <td>82.6k</td>\n",
       "      <td>167.2m</td>\n",
       "      <td>Brazil</td>\n",
       "    </tr>\n",
       "    <tr>\n",
       "      <th>199</th>\n",
       "      <td>200.0</td>\n",
       "      <td>\\nnancyajram</td>\n",
       "      <td>81.0</td>\n",
       "      <td>33.4m</td>\n",
       "      <td>382.5k</td>\n",
       "      <td>3.8k</td>\n",
       "      <td>0.004</td>\n",
       "      <td>128.2k</td>\n",
       "      <td>1.5b</td>\n",
       "      <td>France</td>\n",
       "    </tr>\n",
       "  </tbody>\n",
       "</table>\n",
       "<p>200 rows × 10 columns</p>\n",
       "</div>"
      ],
      "text/plain": [
       "      Rank           Channel Info  Influence Score Followers Avg. Likes  \\\n",
       "0      1.0            \\ncristiano             92.0    485.2m       8.7m   \n",
       "1      2.0            kyliejenner             91.0    370.7m       8.2m   \n",
       "2      3.0             \\nleomessi             90.0    363.9m       6.7m   \n",
       "3      4.0          \\nselenagomez             93.0    348.8m       6.1m   \n",
       "4      5.0              \\ntherock             91.0    339.4m       1.8m   \n",
       "..     ...                    ...              ...       ...        ...   \n",
       "195  196.0  \\nkhabib_nurmagomedov             63.0     33.6m     680.6k   \n",
       "196  197.0         \\ndanbilzerian             84.0     33.6m       2.2m   \n",
       "197  198.0            \\nraisa6690             80.0     33.6m     227.8k   \n",
       "198  199.0          \\nluansantana             79.0     33.5m     193.3k   \n",
       "199  200.0           \\nnancyajram             81.0     33.4m     382.5k   \n",
       "\n",
       "     Posts  60-Day Eng Rate New Post Avg. Likes Total Likes Country Or Region  \n",
       "0     3.4k            0.013                6.3m       29.1b             Spain  \n",
       "1     7.0k            0.014                5.0m       57.4b     United States  \n",
       "2    915.0            0.010                3.5m        6.1b     United States  \n",
       "3     1.9k            0.005                1.7m       11.4b     United States  \n",
       "4     6.8k            0.003              932.0k       12.6b     United States  \n",
       "..     ...              ...                 ...         ...               ...  \n",
       "195   4.6k            0.009              305.7k        3.1b            Russia  \n",
       "196   1.4k            0.064                2.1m        3.0b            Canada  \n",
       "197   4.2k            0.003              103.2k      955.9m         Indonesia  \n",
       "198  865.0            0.003               82.6k      167.2m            Brazil  \n",
       "199   3.8k            0.004              128.2k        1.5b            France  \n",
       "\n",
       "[200 rows x 10 columns]"
      ]
     },
     "execution_count": 10,
     "metadata": {},
     "output_type": "execute_result"
    }
   ],
   "source": [
    "df"
   ]
  },
  {
   "cell_type": "code",
   "execution_count": 11,
   "id": "c8ce1653",
   "metadata": {},
   "outputs": [
    {
     "data": {
      "text/plain": [
       "Rank                   0\n",
       "Channel Info           0\n",
       "Influence Score        0\n",
       "Followers              0\n",
       "Avg. Likes             0\n",
       "Posts                  0\n",
       "60-Day Eng Rate        0\n",
       "New Post Avg. Likes    0\n",
       "Total Likes            0\n",
       "Country Or Region      0\n",
       "dtype: int64"
      ]
     },
     "execution_count": 11,
     "metadata": {},
     "output_type": "execute_result"
    }
   ],
   "source": [
    "# checking null values\n",
    "df.isnull().sum()"
   ]
  },
  {
   "cell_type": "code",
   "execution_count": 12,
   "id": "43bbbcbf",
   "metadata": {},
   "outputs": [
    {
     "data": {
      "text/plain": [
       "United States             128\n",
       "Brazil                     13\n",
       "India                      12\n",
       "Indonesia                   7\n",
       "France                      6\n",
       "Spain                       5\n",
       "United Kingdom              4\n",
       "Colombia                    3\n",
       "Canada                      3\n",
       "Mexico                      2\n",
       "Turkey                      2\n",
       "Netherlands                 2\n",
       "Switzerland                 1\n",
       "Germany                     1\n",
       "Czech Republic              1\n",
       "British Virgin Islands      1\n",
       "Sweden                      1\n",
       "Australia                   1\n",
       "Anguilla                    1\n",
       "CÃ´te d'Ivoire              1\n",
       "Puerto Rico                 1\n",
       "United Arab Emirates        1\n",
       "Italy                       1\n",
       "Uruguay                     1\n",
       "Russia                      1\n",
       "Name: Country Or Region, dtype: int64"
      ]
     },
     "execution_count": 12,
     "metadata": {},
     "output_type": "execute_result"
    }
   ],
   "source": [
    "df['Country Or Region'].value_counts()"
   ]
  },
  {
   "cell_type": "code",
   "execution_count": 14,
   "id": "a85ad2dc",
   "metadata": {},
   "outputs": [],
   "source": [
    "# Convert string K, M & B to number\n",
    "\n",
    "df['Followers'] = df['Followers'].replace({\"k\":\"*1e3\", \"m\":\"*1e6\"}, regex=True).map(df.eval)\n",
    "df['Avg. Likes'] = df['Avg. Likes'].replace({\"k\":\"*1e3\", \"m\":\"*1e6\"}, regex=True).map(df.eval)\n",
    "df['Posts'] = df['Posts'].replace({\"k\":\"*1e3\", \"m\":\"*1e6\"}, regex=True).map(df.eval)\n",
    "df['New Post Avg. Likes'] = df['New Post Avg. Likes'].replace({\"k\":\"*1e3\", \"m\":\"*1e6\"}, regex=True).map(df.eval)\n",
    "df['Total Likes'] = df['Total Likes'].replace({\"m\":\"*1e6\", \"b\":\"*1e9\"}, regex=True).map(df.eval)"
   ]
  },
  {
   "cell_type": "code",
   "execution_count": 22,
   "id": "0b8a6cdb",
   "metadata": {
    "scrolled": false
   },
   "outputs": [
    {
     "data": {
      "text/html": [
       "<div>\n",
       "<style scoped>\n",
       "    .dataframe tbody tr th:only-of-type {\n",
       "        vertical-align: middle;\n",
       "    }\n",
       "\n",
       "    .dataframe tbody tr th {\n",
       "        vertical-align: top;\n",
       "    }\n",
       "\n",
       "    .dataframe thead th {\n",
       "        text-align: right;\n",
       "    }\n",
       "</style>\n",
       "<table border=\"1\" class=\"dataframe\">\n",
       "  <thead>\n",
       "    <tr style=\"text-align: right;\">\n",
       "      <th></th>\n",
       "      <th>Rank</th>\n",
       "      <th>Channel Info</th>\n",
       "      <th>Influence Score</th>\n",
       "      <th>Followers</th>\n",
       "      <th>Avg. Likes</th>\n",
       "      <th>Posts</th>\n",
       "      <th>60-Day Eng Rate</th>\n",
       "      <th>New Post Avg. Likes</th>\n",
       "      <th>Total Likes</th>\n",
       "      <th>Country Or Region</th>\n",
       "    </tr>\n",
       "  </thead>\n",
       "  <tbody>\n",
       "    <tr>\n",
       "      <th>0</th>\n",
       "      <td>1.0</td>\n",
       "      <td>\\ncristiano</td>\n",
       "      <td>92.0</td>\n",
       "      <td>485200000.0</td>\n",
       "      <td>8700000.0</td>\n",
       "      <td>3400.0</td>\n",
       "      <td>0.013</td>\n",
       "      <td>6300000.0</td>\n",
       "      <td>2.910000e+10</td>\n",
       "      <td>Spain</td>\n",
       "    </tr>\n",
       "    <tr>\n",
       "      <th>1</th>\n",
       "      <td>2.0</td>\n",
       "      <td>kyliejenner</td>\n",
       "      <td>91.0</td>\n",
       "      <td>370700000.0</td>\n",
       "      <td>8200000.0</td>\n",
       "      <td>7000.0</td>\n",
       "      <td>0.014</td>\n",
       "      <td>5000000.0</td>\n",
       "      <td>5.740000e+10</td>\n",
       "      <td>United States</td>\n",
       "    </tr>\n",
       "    <tr>\n",
       "      <th>2</th>\n",
       "      <td>3.0</td>\n",
       "      <td>\\nleomessi</td>\n",
       "      <td>90.0</td>\n",
       "      <td>363900000.0</td>\n",
       "      <td>6700000.0</td>\n",
       "      <td>915.0</td>\n",
       "      <td>0.010</td>\n",
       "      <td>3500000.0</td>\n",
       "      <td>6.100000e+09</td>\n",
       "      <td>United States</td>\n",
       "    </tr>\n",
       "    <tr>\n",
       "      <th>3</th>\n",
       "      <td>4.0</td>\n",
       "      <td>\\nselenagomez</td>\n",
       "      <td>93.0</td>\n",
       "      <td>348800000.0</td>\n",
       "      <td>6100000.0</td>\n",
       "      <td>1900.0</td>\n",
       "      <td>0.005</td>\n",
       "      <td>1700000.0</td>\n",
       "      <td>1.140000e+10</td>\n",
       "      <td>United States</td>\n",
       "    </tr>\n",
       "    <tr>\n",
       "      <th>4</th>\n",
       "      <td>5.0</td>\n",
       "      <td>\\ntherock</td>\n",
       "      <td>91.0</td>\n",
       "      <td>339400000.0</td>\n",
       "      <td>1800000.0</td>\n",
       "      <td>6800.0</td>\n",
       "      <td>0.003</td>\n",
       "      <td>932000.0</td>\n",
       "      <td>1.260000e+10</td>\n",
       "      <td>United States</td>\n",
       "    </tr>\n",
       "  </tbody>\n",
       "</table>\n",
       "</div>"
      ],
      "text/plain": [
       "   Rank   Channel Info  Influence Score    Followers  Avg. Likes   Posts  \\\n",
       "0   1.0    \\ncristiano             92.0  485200000.0   8700000.0  3400.0   \n",
       "1   2.0    kyliejenner             91.0  370700000.0   8200000.0  7000.0   \n",
       "2   3.0     \\nleomessi             90.0  363900000.0   6700000.0   915.0   \n",
       "3   4.0  \\nselenagomez             93.0  348800000.0   6100000.0  1900.0   \n",
       "4   5.0      \\ntherock             91.0  339400000.0   1800000.0  6800.0   \n",
       "\n",
       "   60-Day Eng Rate  New Post Avg. Likes   Total Likes Country Or Region  \n",
       "0            0.013            6300000.0  2.910000e+10             Spain  \n",
       "1            0.014            5000000.0  5.740000e+10     United States  \n",
       "2            0.010            3500000.0  6.100000e+09     United States  \n",
       "3            0.005            1700000.0  1.140000e+10     United States  \n",
       "4            0.003             932000.0  1.260000e+10     United States  "
      ]
     },
     "execution_count": 22,
     "metadata": {},
     "output_type": "execute_result"
    }
   ],
   "source": [
    "df.head()"
   ]
  },
  {
   "cell_type": "raw",
   "id": "7ce3a046",
   "metadata": {},
   "source": [
    "1. Are there any correlated features in the given dataset? If yes, state the correlation\n",
    "coefficient of the pair of features which are highly correlated."
   ]
  },
  {
   "cell_type": "code",
   "execution_count": 16,
   "id": "71e0933f",
   "metadata": {},
   "outputs": [
    {
     "data": {
      "text/html": [
       "<div>\n",
       "<style scoped>\n",
       "    .dataframe tbody tr th:only-of-type {\n",
       "        vertical-align: middle;\n",
       "    }\n",
       "\n",
       "    .dataframe tbody tr th {\n",
       "        vertical-align: top;\n",
       "    }\n",
       "\n",
       "    .dataframe thead th {\n",
       "        text-align: right;\n",
       "    }\n",
       "</style>\n",
       "<table border=\"1\" class=\"dataframe\">\n",
       "  <thead>\n",
       "    <tr style=\"text-align: right;\">\n",
       "      <th></th>\n",
       "      <th>Rank</th>\n",
       "      <th>Influence Score</th>\n",
       "      <th>Followers</th>\n",
       "      <th>Avg. Likes</th>\n",
       "      <th>Posts</th>\n",
       "      <th>60-Day Eng Rate</th>\n",
       "      <th>New Post Avg. Likes</th>\n",
       "      <th>Total Likes</th>\n",
       "    </tr>\n",
       "  </thead>\n",
       "  <tbody>\n",
       "    <tr>\n",
       "      <th>Rank</th>\n",
       "      <td>1.000000</td>\n",
       "      <td>0.354843</td>\n",
       "      <td>0.698193</td>\n",
       "      <td>0.277699</td>\n",
       "      <td>0.058132</td>\n",
       "      <td>0.028900</td>\n",
       "      <td>0.272323</td>\n",
       "      <td>0.465119</td>\n",
       "    </tr>\n",
       "    <tr>\n",
       "      <th>Influence Score</th>\n",
       "      <td>0.354843</td>\n",
       "      <td>1.000000</td>\n",
       "      <td>0.365428</td>\n",
       "      <td>0.048502</td>\n",
       "      <td>0.168287</td>\n",
       "      <td>0.072460</td>\n",
       "      <td>0.040011</td>\n",
       "      <td>0.234987</td>\n",
       "    </tr>\n",
       "    <tr>\n",
       "      <th>Followers</th>\n",
       "      <td>0.698193</td>\n",
       "      <td>0.365428</td>\n",
       "      <td>1.000000</td>\n",
       "      <td>0.346829</td>\n",
       "      <td>0.069171</td>\n",
       "      <td>0.107439</td>\n",
       "      <td>0.260764</td>\n",
       "      <td>0.667546</td>\n",
       "    </tr>\n",
       "    <tr>\n",
       "      <th>Avg. Likes</th>\n",
       "      <td>0.277699</td>\n",
       "      <td>0.048502</td>\n",
       "      <td>0.346829</td>\n",
       "      <td>1.000000</td>\n",
       "      <td>0.348795</td>\n",
       "      <td>0.789359</td>\n",
       "      <td>0.892784</td>\n",
       "      <td>0.361296</td>\n",
       "    </tr>\n",
       "    <tr>\n",
       "      <th>Posts</th>\n",
       "      <td>0.058132</td>\n",
       "      <td>0.168287</td>\n",
       "      <td>0.069171</td>\n",
       "      <td>0.348795</td>\n",
       "      <td>1.000000</td>\n",
       "      <td>0.334047</td>\n",
       "      <td>0.285154</td>\n",
       "      <td>0.232038</td>\n",
       "    </tr>\n",
       "    <tr>\n",
       "      <th>60-Day Eng Rate</th>\n",
       "      <td>0.028900</td>\n",
       "      <td>0.072460</td>\n",
       "      <td>0.107439</td>\n",
       "      <td>0.789359</td>\n",
       "      <td>0.334047</td>\n",
       "      <td>1.000000</td>\n",
       "      <td>0.866293</td>\n",
       "      <td>0.001560</td>\n",
       "    </tr>\n",
       "    <tr>\n",
       "      <th>New Post Avg. Likes</th>\n",
       "      <td>0.272323</td>\n",
       "      <td>0.040011</td>\n",
       "      <td>0.260764</td>\n",
       "      <td>0.892784</td>\n",
       "      <td>0.285154</td>\n",
       "      <td>0.866293</td>\n",
       "      <td>1.000000</td>\n",
       "      <td>0.351335</td>\n",
       "    </tr>\n",
       "    <tr>\n",
       "      <th>Total Likes</th>\n",
       "      <td>0.465119</td>\n",
       "      <td>0.234987</td>\n",
       "      <td>0.667546</td>\n",
       "      <td>0.361296</td>\n",
       "      <td>0.232038</td>\n",
       "      <td>0.001560</td>\n",
       "      <td>0.351335</td>\n",
       "      <td>1.000000</td>\n",
       "    </tr>\n",
       "  </tbody>\n",
       "</table>\n",
       "</div>"
      ],
      "text/plain": [
       "                         Rank  Influence Score  Followers  Avg. Likes  \\\n",
       "Rank                 1.000000         0.354843   0.698193    0.277699   \n",
       "Influence Score      0.354843         1.000000   0.365428    0.048502   \n",
       "Followers            0.698193         0.365428   1.000000    0.346829   \n",
       "Avg. Likes           0.277699         0.048502   0.346829    1.000000   \n",
       "Posts                0.058132         0.168287   0.069171    0.348795   \n",
       "60-Day Eng Rate      0.028900         0.072460   0.107439    0.789359   \n",
       "New Post Avg. Likes  0.272323         0.040011   0.260764    0.892784   \n",
       "Total Likes          0.465119         0.234987   0.667546    0.361296   \n",
       "\n",
       "                        Posts  60-Day Eng Rate  New Post Avg. Likes  \\\n",
       "Rank                 0.058132         0.028900             0.272323   \n",
       "Influence Score      0.168287         0.072460             0.040011   \n",
       "Followers            0.069171         0.107439             0.260764   \n",
       "Avg. Likes           0.348795         0.789359             0.892784   \n",
       "Posts                1.000000         0.334047             0.285154   \n",
       "60-Day Eng Rate      0.334047         1.000000             0.866293   \n",
       "New Post Avg. Likes  0.285154         0.866293             1.000000   \n",
       "Total Likes          0.232038         0.001560             0.351335   \n",
       "\n",
       "                     Total Likes  \n",
       "Rank                    0.465119  \n",
       "Influence Score         0.234987  \n",
       "Followers               0.667546  \n",
       "Avg. Likes              0.361296  \n",
       "Posts                   0.232038  \n",
       "60-Day Eng Rate         0.001560  \n",
       "New Post Avg. Likes     0.351335  \n",
       "Total Likes             1.000000  "
      ]
     },
     "execution_count": 16,
     "metadata": {},
     "output_type": "execute_result"
    }
   ],
   "source": [
    "# corelation feature in given dataset\n",
    "corr = df.corr().abs()\n",
    "corr"
   ]
  },
  {
   "cell_type": "code",
   "execution_count": 17,
   "id": "e20ac06b",
   "metadata": {},
   "outputs": [
    {
     "data": {
      "text/plain": [
       "0.8927840403263658"
      ]
     },
     "execution_count": 17,
     "metadata": {},
     "output_type": "execute_result"
    }
   ],
   "source": [
    "# highly correlated pair feature\n",
    "\n",
    "df[\"New Post Avg. Likes\"].corr(df[\"Avg. Likes\"])"
   ]
  },
  {
   "cell_type": "code",
   "execution_count": 18,
   "id": "f366bf57",
   "metadata": {},
   "outputs": [
    {
     "data": {
      "text/plain": [
       "<AxesSubplot:>"
      ]
     },
     "execution_count": 18,
     "metadata": {},
     "output_type": "execute_result"
    },
    {
     "data": {
      "image/png": "[encoded data removed]",
      "text/plain": [
       "<Figure size 432x288 with 2 Axes>"
      ]
     },
     "metadata": {
      "needs_background": "light"
     },
     "output_type": "display_data"
    }
   ],
   "source": [
    "sns.heatmap(corr, annot = True)"
   ]
  },
  {
   "cell_type": "raw",
   "id": "eb7ed022",
   "metadata": {},
   "source": [
    "2. What is the frequency distribution of the following features\n",
    "○ Influence Score\n",
    "○ Followers\n",
    "○ Posts"
   ]
  },
  {
   "cell_type": "code",
   "execution_count": 29,
   "id": "8189da11",
   "metadata": {},
   "outputs": [
    {
     "data": {
      "image/png": "[encoded data removed]",
      "text/plain": [
       "<Figure size 432x288 with 1 Axes>"
      ]
     },
     "metadata": {
      "needs_background": "light"
     },
     "output_type": "display_data"
    }
   ],
   "source": [
    "plt.hist(df['Influence Score'])\n",
    "plt.title('Frequency distribution of Influence Score')\n",
    "plt.show()"
   ]
  },
  {
   "cell_type": "code",
   "execution_count": 30,
   "id": "cde25ed1",
   "metadata": {},
   "outputs": [
    {
     "data": {
      "image/png": "[encoded data removed]",
      "text/plain": [
       "<Figure size 432x288 with 1 Axes>"
      ]
     },
     "metadata": {
      "needs_background": "light"
     },
     "output_type": "display_data"
    }
   ],
   "source": [
    "plt.hist(df['Followers'])\n",
    "plt.title('Frequency distribution of Followers')\n",
    "plt.show()"
   ]
  },
  {
   "cell_type": "code",
   "execution_count": 31,
   "id": "22955d9c",
   "metadata": {},
   "outputs": [
    {
     "data": {
      "image/png": "[encoded data removed]",
      "text/plain": [
       "<Figure size 432x288 with 1 Axes>"
      ]
     },
     "metadata": {
      "needs_background": "light"
     },
     "output_type": "display_data"
    }
   ],
   "source": [
    "plt.hist(df['Posts'])\n",
    "plt.title('Frequency distribution of Post')\n",
    "plt.show()"
   ]
  },
  {
   "cell_type": "raw",
   "id": "24ea66ef",
   "metadata": {},
   "source": [
    "3. Which country houses the highest number of Instagram Influencers? Please show the\n",
    "count of Instagram influencers in different countries using barchart"
   ]
  },
  {
   "cell_type": "code",
   "execution_count": 49,
   "id": "ff56546f",
   "metadata": {},
   "outputs": [
    {
     "data": {
      "image/png": "[encoded data removed]",
      "text/plain": [
       "<Figure size 1008x432 with 1 Axes>"
      ]
     },
     "metadata": {
      "needs_background": "light"
     },
     "output_type": "display_data"
    }
   ],
   "source": [
    "df[\"Country Or Region\"].value_counts().plot.bar(figsize=(14, 6))\n",
    "plt.title('Highest number of Instagram Influencers')\n",
    "plt.show()"
   ]
  },
  {
   "cell_type": "raw",
   "id": "67d7697a",
   "metadata": {},
   "source": [
    "4. Who are the top 10 influencers in the given dataset based on the following features\n",
    "● Followers\n",
    "● Average likes\n",
    "● Total Likes"
   ]
  },
  {
   "cell_type": "code",
   "execution_count": 38,
   "id": "f19c2c30",
   "metadata": {},
   "outputs": [
    {
     "data": {
      "text/html": [
       "<div>\n",
       "<style scoped>\n",
       "    .dataframe tbody tr th:only-of-type {\n",
       "        vertical-align: middle;\n",
       "    }\n",
       "\n",
       "    .dataframe tbody tr th {\n",
       "        vertical-align: top;\n",
       "    }\n",
       "\n",
       "    .dataframe thead th {\n",
       "        text-align: right;\n",
       "    }\n",
       "</style>\n",
       "<table border=\"1\" class=\"dataframe\">\n",
       "  <thead>\n",
       "    <tr style=\"text-align: right;\">\n",
       "      <th></th>\n",
       "      <th>Channel Info</th>\n",
       "      <th>Followers</th>\n",
       "      <th>Avg. Likes</th>\n",
       "      <th>Total Likes</th>\n",
       "    </tr>\n",
       "  </thead>\n",
       "  <tbody>\n",
       "    <tr>\n",
       "      <th>0</th>\n",
       "      <td>\\ncristiano</td>\n",
       "      <td>485200000.0</td>\n",
       "      <td>8700000.0</td>\n",
       "      <td>2.910000e+10</td>\n",
       "    </tr>\n",
       "    <tr>\n",
       "      <th>1</th>\n",
       "      <td>kyliejenner</td>\n",
       "      <td>370700000.0</td>\n",
       "      <td>8200000.0</td>\n",
       "      <td>5.740000e+10</td>\n",
       "    </tr>\n",
       "    <tr>\n",
       "      <th>2</th>\n",
       "      <td>\\nleomessi</td>\n",
       "      <td>363900000.0</td>\n",
       "      <td>6700000.0</td>\n",
       "      <td>6.100000e+09</td>\n",
       "    </tr>\n",
       "    <tr>\n",
       "      <th>3</th>\n",
       "      <td>\\nselenagomez</td>\n",
       "      <td>348800000.0</td>\n",
       "      <td>6100000.0</td>\n",
       "      <td>1.140000e+10</td>\n",
       "    </tr>\n",
       "    <tr>\n",
       "      <th>4</th>\n",
       "      <td>\\ntherock</td>\n",
       "      <td>339400000.0</td>\n",
       "      <td>1800000.0</td>\n",
       "      <td>1.260000e+10</td>\n",
       "    </tr>\n",
       "    <tr>\n",
       "      <th>5</th>\n",
       "      <td>\\narianagrande</td>\n",
       "      <td>333000000.0</td>\n",
       "      <td>3700000.0</td>\n",
       "      <td>1.850000e+10</td>\n",
       "    </tr>\n",
       "    <tr>\n",
       "      <th>6</th>\n",
       "      <td>\\nkimkardashian</td>\n",
       "      <td>330700000.0</td>\n",
       "      <td>3500000.0</td>\n",
       "      <td>1.980000e+10</td>\n",
       "    </tr>\n",
       "    <tr>\n",
       "      <th>7</th>\n",
       "      <td>\\nbeyonce</td>\n",
       "      <td>276100000.0</td>\n",
       "      <td>3600000.0</td>\n",
       "      <td>7.300000e+09</td>\n",
       "    </tr>\n",
       "    <tr>\n",
       "      <th>8</th>\n",
       "      <td>\\nkhloekardashian</td>\n",
       "      <td>273900000.0</td>\n",
       "      <td>2400000.0</td>\n",
       "      <td>9.800000e+09</td>\n",
       "    </tr>\n",
       "    <tr>\n",
       "      <th>9</th>\n",
       "      <td>\\njustinbieber</td>\n",
       "      <td>260000000.0</td>\n",
       "      <td>1900000.0</td>\n",
       "      <td>1.400000e+10</td>\n",
       "    </tr>\n",
       "    <tr>\n",
       "      <th>10</th>\n",
       "      <td>\\nkendalljenner</td>\n",
       "      <td>258900000.0</td>\n",
       "      <td>5500000.0</td>\n",
       "      <td>3.700000e+09</td>\n",
       "    </tr>\n",
       "  </tbody>\n",
       "</table>\n",
       "</div>"
      ],
      "text/plain": [
       "         Channel Info    Followers  Avg. Likes   Total Likes\n",
       "0         \\ncristiano  485200000.0   8700000.0  2.910000e+10\n",
       "1         kyliejenner  370700000.0   8200000.0  5.740000e+10\n",
       "2          \\nleomessi  363900000.0   6700000.0  6.100000e+09\n",
       "3       \\nselenagomez  348800000.0   6100000.0  1.140000e+10\n",
       "4           \\ntherock  339400000.0   1800000.0  1.260000e+10\n",
       "5      \\narianagrande  333000000.0   3700000.0  1.850000e+10\n",
       "6     \\nkimkardashian  330700000.0   3500000.0  1.980000e+10\n",
       "7           \\nbeyonce  276100000.0   3600000.0  7.300000e+09\n",
       "8   \\nkhloekardashian  273900000.0   2400000.0  9.800000e+09\n",
       "9      \\njustinbieber  260000000.0   1900000.0  1.400000e+10\n",
       "10    \\nkendalljenner  258900000.0   5500000.0  3.700000e+09"
      ]
     },
     "execution_count": 38,
     "metadata": {},
     "output_type": "execute_result"
    }
   ],
   "source": [
    "dy = df[[\"Channel Info\",\"Followers\",\"Avg. Likes\",\"Total Likes\"]].sort_values(by =[\"Followers\",\"Avg. Likes\",\"Total Likes\"], ascending = False)\n",
    "dy[0:11]"
   ]
  },
  {
   "cell_type": "raw",
   "id": "bddd55b7",
   "metadata": {},
   "source": [
    "5. Describe the relationship between the following pairs of features using a suitable graph\n",
    "● Followers and Total Likes\n",
    "● Followers and Influence Score\n",
    "● Posts and Average likes\n",
    "● Posts and Influence Score"
   ]
  },
  {
   "cell_type": "code",
   "execution_count": 42,
   "id": "6467a6d0",
   "metadata": {},
   "outputs": [
    {
     "data": {
      "image/png": "[encoded data removed]",
      "text/plain": [
       "<Figure size 432x288 with 1 Axes>"
      ]
     },
     "metadata": {
      "needs_background": "light"
     },
     "output_type": "display_data"
    }
   ],
   "source": [
    "# Followers and Total Likes\n",
    "\n",
    "plt.plot(df['Followers'],df['Total Likes'])\n",
    "plt.title('Relationship bw Followers & Total likes')\n",
    "plt.show()"
   ]
  },
  {
   "cell_type": "code",
   "execution_count": 43,
   "id": "f7fac142",
   "metadata": {},
   "outputs": [
    {
     "data": {
      "image/png": "[encoded data removed]",
      "text/plain": [
       "<Figure size 432x288 with 1 Axes>"
      ]
     },
     "metadata": {
      "needs_background": "light"
     },
     "output_type": "display_data"
    }
   ],
   "source": [
    "# Followers and Influence Score\n",
    "\n",
    "plt.plot(df['Followers'],df['Influence Score'])\n",
    "plt.title('Relationship bw Post & Influence Score')\n",
    "plt.show()"
   ]
  },
  {
   "cell_type": "code",
   "execution_count": 45,
   "id": "8f31ace6",
   "metadata": {},
   "outputs": [
    {
     "data": {
      "image/png": "[encoded data removed]",
      "text/plain": [
       "<Figure size 432x288 with 1 Axes>"
      ]
     },
     "metadata": {
      "needs_background": "light"
     },
     "output_type": "display_data"
    }
   ],
   "source": [
    "# Posts and Average likes\n",
    "\n",
    "plt.scatter(df['Posts'], df['Avg. Likes'])\n",
    "plt.title('Relationship bw Post & Average likes')\n",
    "plt.show()"
   ]
  },
  {
   "cell_type": "code",
   "execution_count": 47,
   "id": "40555893",
   "metadata": {},
   "outputs": [
    {
     "data": {
      "image/png": "[encoded data removed]",
      "text/plain": [
       "<Figure size 432x288 with 1 Axes>"
      ]
     },
     "metadata": {
      "needs_background": "light"
     },
     "output_type": "display_data"
    }
   ],
   "source": [
    "# Posts and Influence Score\n",
    "\n",
    "plt.scatter(df['Posts'],df['Influence Score'])\n",
    "plt.title('Relationship bw  Post & Influence score')\n",
    "plt.show()"
   ]
  },
  {
   "cell_type": "code",
   "execution_count": null,
   "id": "a09254c5",
   "metadata": {},
   "outputs": [],
   "source": []
  },
  {
   "cell_type": "code",
   "execution_count": null,
   "id": "043a0299",
   "metadata": {},
   "outputs": [],
   "source": []
  },
  {
   "cell_type": "code",
   "execution_count": null,
   "id": "79995863",
   "metadata": {},
   "outputs": [],
   "source": []
  },
  {
   "cell_type": "code",
   "execution_count": null,
   "id": "6ee4e397",
   "metadata": {},
   "outputs": [],
   "source": []
  },
  {
   "cell_type": "code",
   "execution_count": null,
   "id": "eb5e7746",
   "metadata": {},
   "outputs": [],
   "source": []
  },
  {
   "cell_type": "code",
   "execution_count": null,
   "id": "4d18c2e1",
   "metadata": {},
   "outputs": [],
   "source": []
  },
  {
   "cell_type": "code",
   "execution_count": null,
   "id": "6fd13d7a",
   "metadata": {},
   "outputs": [],
   "source": []
  },
  {
   "cell_type": "code",
   "execution_count": null,
   "id": "83f8a7db",
   "metadata": {},
   "outputs": [],
   "source": []
  },
  {
   "cell_type": "code",
   "execution_count": null,
   "id": "73efbcf8",
   "metadata": {},
   "outputs": [],
   "source": []
  },
  {
   "cell_type": "code",
   "execution_count": null,
   "id": "6400d51e",
   "metadata": {},
   "outputs": [],
   "source": []
  },
  {
   "cell_type": "code",
   "execution_count": null,
   "id": "0d00dab5",
   "metadata": {},
   "outputs": [],
   "source": []
  },
  {
   "cell_type": "code",
   "execution_count": null,
   "id": "e4916f4a",
   "metadata": {},
   "outputs": [],
   "source": [
    "df.plot(x = \"Country Or Region\", y = \"Influence Score\", kind = \"bar\", legend = False)\n",
    "plt.show()"
   ]
  },
  {
   "cell_type": "code",
   "execution_count": null,
   "id": "2ef884ee",
   "metadata": {},
   "outputs": [],
   "source": [
    "import matplotlib.pyplot as plt; plt.rcdefaults()\n",
    "import numpy as np\n",
    "import matplotlib.pyplot as plt\n",
    "\n",
    "objects = (df['Country Or Region'])\n",
    "y_pos = df['Influence Score']\n",
    "\n",
    "plt.bar(y_pos,height=6, align='center', alpha=0.5)\n",
    "plt.xticks(y_pos, objects)\n",
    "plt.ylabel('Influence Score')\n",
    "plt.title('Programming language usage')\n",
    "\n",
    "plt.show()"
   ]
  },
  {
   "cell_type": "code",
   "execution_count": null,
   "id": "d76a3e42",
   "metadata": {},
   "outputs": [],
   "source": [
    "df.groupby(['Country Or Region','Influence Score']).value_counts().unstack().plot(kind='bar',stacked = True)"
   ]
  }
 ],
 "metadata": {
  "kernelspec": {
   "display_name": "Python 3 (ipykernel)",
   "language": "python",
   "name": "python3"
  },
  "language_info": {
   "codemirror_mode": {
    "name": "ipython",
    "version": 3
   },
   "file_extension": ".py",
   "mimetype": "text/x-python",
   "name": "python",
   "nbconvert_exporter": "python",
   "pygments_lexer": "ipython3",
   "version": "3.9.12"
  }
 },
 "nbformat": 4,
 "nbformat_minor": 5
}
